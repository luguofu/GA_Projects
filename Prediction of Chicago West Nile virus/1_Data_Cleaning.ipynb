{
 "cells": [
  {
   "cell_type": "markdown",
   "id": "528b1c77",
   "metadata": {},
   "source": [
    "# 1. Introduction:\n",
    "The West Nile Virus (\"WNV\") has been a significant issue plaguing the United States of America (\"USA\") since 1999. The Centers for Disease Control and Prevention (\"CDC\") has acknowledged WNV as one of the leading causes of mosquito-borne diseases in the continental USA. However, there are no vaccines nor medication to treat WNV and according to the CDC, 1 in 5 people who are infected will develop a fever and other accompanying symptoms whilst 1 in 150 people will develop a more serious, potentially fatal, illness.\n",
    "\n",
    "In 2002, the first human cases of West Nile virus were reported in Chicago. By 2004 the City of Chicago and the Chicago Department of Public Health (\"CDPH\") had established a comprehensive surveillance and control program that is still in effect today.\n",
    "\n",
    "Every week from late spring through the fall, mosquitos in traps across the city are tested for the virus. The results of these tests influence when and where the city will spray airborne pesticides to control adult mosquito populations.\n",
    "\n",
    "With this in mind, **our project's goal is to predict outbreaks of the WNV.** This will help the CDPH and the City of Chicago to more efficiently and effectively allocate resources towards preventing transmissions of this potentially deadly virus. Specifically, we will be using a combination of weather, time and location features to predict the presence of WNV within various mosquito traps laid out throughout Chicago.\n",
    "\n",
    "Our project will additionally determine **the best stratgegy for controlling the spread of the WNV**, as well as discussing and justifying the various trade-offs that need to be made through implementing our model.\n",
    "\n",
    "\n",
    "## Problem Statement\n",
    "- Predict outbreaks of the NSW virus. Provide recommendations to conduct spraying operations. "
   ]
  },
  {
   "cell_type": "markdown",
   "id": "9efaf8c2",
   "metadata": {},
   "source": [
    "# 2. Importing the Libraries"
   ]
  },
  {
   "cell_type": "code",
   "execution_count": 1,
   "id": "fff53af0",
   "metadata": {},
   "outputs": [],
   "source": [
    "# Import libraries\n",
    "import pandas as pd\n",
    "import numpy as np\n",
    "import matplotlib.pyplot as plt\n",
    "import seaborn as sns"
   ]
  },
  {
   "cell_type": "markdown",
   "id": "416e97c5",
   "metadata": {},
   "source": [
    "# 3. Data Import"
   ]
  },
  {
   "cell_type": "code",
   "execution_count": 2,
   "id": "75628cbe",
   "metadata": {},
   "outputs": [],
   "source": [
    "# Load datasets\n",
    "train = pd.read_csv('./datasets/train.csv')\n",
    "test = pd.read_csv('./datasets/test.csv')\n",
    "weather = pd.read_csv('./datasets/weather.csv')\n",
    "spray = pd.read_csv('./datasets/spray.csv')"
   ]
  },
  {
   "cell_type": "markdown",
   "id": "4e48b62c",
   "metadata": {},
   "source": [
    "# 4. Weather - Data Cleaning"
   ]
  },
  {
   "cell_type": "markdown",
   "id": "2a0e2728",
   "metadata": {},
   "source": [
    "## 4.1. Weather - Initial Analysis"
   ]
  },
  {
   "cell_type": "code",
   "execution_count": 3,
   "id": "14ad35c6",
   "metadata": {},
   "outputs": [
    {
     "data": {
      "text/html": [
       "<div>\n",
       "<style scoped>\n",
       "    .dataframe tbody tr th:only-of-type {\n",
       "        vertical-align: middle;\n",
       "    }\n",
       "\n",
       "    .dataframe tbody tr th {\n",
       "        vertical-align: top;\n",
       "    }\n",
       "\n",
       "    .dataframe thead th {\n",
       "        text-align: right;\n",
       "    }\n",
       "</style>\n",
       "<table border=\"1\" class=\"dataframe\">\n",
       "  <thead>\n",
       "    <tr style=\"text-align: right;\">\n",
       "      <th></th>\n",
       "      <th>Station</th>\n",
       "      <th>Date</th>\n",
       "      <th>Tmax</th>\n",
       "      <th>Tmin</th>\n",
       "      <th>Tavg</th>\n",
       "      <th>Depart</th>\n",
       "      <th>DewPoint</th>\n",
       "      <th>WetBulb</th>\n",
       "      <th>Heat</th>\n",
       "      <th>Cool</th>\n",
       "      <th>...</th>\n",
       "      <th>CodeSum</th>\n",
       "      <th>Depth</th>\n",
       "      <th>Water1</th>\n",
       "      <th>SnowFall</th>\n",
       "      <th>PrecipTotal</th>\n",
       "      <th>StnPressure</th>\n",
       "      <th>SeaLevel</th>\n",
       "      <th>ResultSpeed</th>\n",
       "      <th>ResultDir</th>\n",
       "      <th>AvgSpeed</th>\n",
       "    </tr>\n",
       "  </thead>\n",
       "  <tbody>\n",
       "    <tr>\n",
       "      <th>0</th>\n",
       "      <td>1</td>\n",
       "      <td>2007-05-01</td>\n",
       "      <td>83</td>\n",
       "      <td>50</td>\n",
       "      <td>67</td>\n",
       "      <td>14</td>\n",
       "      <td>51</td>\n",
       "      <td>56</td>\n",
       "      <td>0</td>\n",
       "      <td>2</td>\n",
       "      <td>...</td>\n",
       "      <td></td>\n",
       "      <td>0</td>\n",
       "      <td>M</td>\n",
       "      <td>0.0</td>\n",
       "      <td>0.00</td>\n",
       "      <td>29.10</td>\n",
       "      <td>29.82</td>\n",
       "      <td>1.7</td>\n",
       "      <td>27</td>\n",
       "      <td>9.2</td>\n",
       "    </tr>\n",
       "    <tr>\n",
       "      <th>1</th>\n",
       "      <td>2</td>\n",
       "      <td>2007-05-01</td>\n",
       "      <td>84</td>\n",
       "      <td>52</td>\n",
       "      <td>68</td>\n",
       "      <td>M</td>\n",
       "      <td>51</td>\n",
       "      <td>57</td>\n",
       "      <td>0</td>\n",
       "      <td>3</td>\n",
       "      <td>...</td>\n",
       "      <td></td>\n",
       "      <td>M</td>\n",
       "      <td>M</td>\n",
       "      <td>M</td>\n",
       "      <td>0.00</td>\n",
       "      <td>29.18</td>\n",
       "      <td>29.82</td>\n",
       "      <td>2.7</td>\n",
       "      <td>25</td>\n",
       "      <td>9.6</td>\n",
       "    </tr>\n",
       "    <tr>\n",
       "      <th>2</th>\n",
       "      <td>1</td>\n",
       "      <td>2007-05-02</td>\n",
       "      <td>59</td>\n",
       "      <td>42</td>\n",
       "      <td>51</td>\n",
       "      <td>-3</td>\n",
       "      <td>42</td>\n",
       "      <td>47</td>\n",
       "      <td>14</td>\n",
       "      <td>0</td>\n",
       "      <td>...</td>\n",
       "      <td>BR</td>\n",
       "      <td>0</td>\n",
       "      <td>M</td>\n",
       "      <td>0.0</td>\n",
       "      <td>0.00</td>\n",
       "      <td>29.38</td>\n",
       "      <td>30.09</td>\n",
       "      <td>13.0</td>\n",
       "      <td>4</td>\n",
       "      <td>13.4</td>\n",
       "    </tr>\n",
       "    <tr>\n",
       "      <th>3</th>\n",
       "      <td>2</td>\n",
       "      <td>2007-05-02</td>\n",
       "      <td>60</td>\n",
       "      <td>43</td>\n",
       "      <td>52</td>\n",
       "      <td>M</td>\n",
       "      <td>42</td>\n",
       "      <td>47</td>\n",
       "      <td>13</td>\n",
       "      <td>0</td>\n",
       "      <td>...</td>\n",
       "      <td>BR HZ</td>\n",
       "      <td>M</td>\n",
       "      <td>M</td>\n",
       "      <td>M</td>\n",
       "      <td>0.00</td>\n",
       "      <td>29.44</td>\n",
       "      <td>30.08</td>\n",
       "      <td>13.3</td>\n",
       "      <td>2</td>\n",
       "      <td>13.4</td>\n",
       "    </tr>\n",
       "    <tr>\n",
       "      <th>4</th>\n",
       "      <td>1</td>\n",
       "      <td>2007-05-03</td>\n",
       "      <td>66</td>\n",
       "      <td>46</td>\n",
       "      <td>56</td>\n",
       "      <td>2</td>\n",
       "      <td>40</td>\n",
       "      <td>48</td>\n",
       "      <td>9</td>\n",
       "      <td>0</td>\n",
       "      <td>...</td>\n",
       "      <td></td>\n",
       "      <td>0</td>\n",
       "      <td>M</td>\n",
       "      <td>0.0</td>\n",
       "      <td>0.00</td>\n",
       "      <td>29.39</td>\n",
       "      <td>30.12</td>\n",
       "      <td>11.7</td>\n",
       "      <td>7</td>\n",
       "      <td>11.9</td>\n",
       "    </tr>\n",
       "  </tbody>\n",
       "</table>\n",
       "<p>5 rows × 22 columns</p>\n",
       "</div>"
      ],
      "text/plain": [
       "   Station        Date  Tmax  Tmin Tavg Depart  DewPoint WetBulb Heat Cool  \\\n",
       "0        1  2007-05-01    83    50   67     14        51      56    0    2   \n",
       "1        2  2007-05-01    84    52   68      M        51      57    0    3   \n",
       "2        1  2007-05-02    59    42   51     -3        42      47   14    0   \n",
       "3        2  2007-05-02    60    43   52      M        42      47   13    0   \n",
       "4        1  2007-05-03    66    46   56      2        40      48    9    0   \n",
       "\n",
       "   ... CodeSum Depth Water1 SnowFall PrecipTotal StnPressure SeaLevel  \\\n",
       "0  ...             0      M      0.0        0.00       29.10    29.82   \n",
       "1  ...             M      M        M        0.00       29.18    29.82   \n",
       "2  ...      BR     0      M      0.0        0.00       29.38    30.09   \n",
       "3  ...   BR HZ     M      M        M        0.00       29.44    30.08   \n",
       "4  ...             0      M      0.0        0.00       29.39    30.12   \n",
       "\n",
       "  ResultSpeed ResultDir  AvgSpeed  \n",
       "0         1.7        27       9.2  \n",
       "1         2.7        25       9.6  \n",
       "2        13.0         4      13.4  \n",
       "3        13.3         2      13.4  \n",
       "4        11.7         7      11.9  \n",
       "\n",
       "[5 rows x 22 columns]"
      ]
     },
     "execution_count": 3,
     "metadata": {},
     "output_type": "execute_result"
    }
   ],
   "source": [
    "weather.head()"
   ]
  },
  {
   "cell_type": "code",
   "execution_count": 4,
   "id": "78932bbc",
   "metadata": {},
   "outputs": [
    {
     "data": {
      "text/plain": [
       "Station        0\n",
       "Date           0\n",
       "Tmax           0\n",
       "Tmin           0\n",
       "Tavg           0\n",
       "Depart         0\n",
       "DewPoint       0\n",
       "WetBulb        0\n",
       "Heat           0\n",
       "Cool           0\n",
       "Sunrise        0\n",
       "Sunset         0\n",
       "CodeSum        0\n",
       "Depth          0\n",
       "Water1         0\n",
       "SnowFall       0\n",
       "PrecipTotal    0\n",
       "StnPressure    0\n",
       "SeaLevel       0\n",
       "ResultSpeed    0\n",
       "ResultDir      0\n",
       "AvgSpeed       0\n",
       "dtype: int64"
      ]
     },
     "execution_count": 4,
     "metadata": {},
     "output_type": "execute_result"
    }
   ],
   "source": [
    "# Checking for missing values\n",
    "weather.isnull().sum()"
   ]
  },
  {
   "cell_type": "code",
   "execution_count": 5,
   "id": "65b5c847",
   "metadata": {},
   "outputs": [
    {
     "data": {
      "text/plain": [
       "0"
      ]
     },
     "execution_count": 5,
     "metadata": {},
     "output_type": "execute_result"
    }
   ],
   "source": [
    "# Checking for duplicate values\n",
    "weather.duplicated().sum()"
   ]
  },
  {
   "cell_type": "code",
   "execution_count": 6,
   "id": "3cbcd6ef",
   "metadata": {},
   "outputs": [
    {
     "data": {
      "text/plain": [
       "Water1         2944\n",
       "Depart         1472\n",
       "SnowFall       1472\n",
       "Depth          1472\n",
       "Tavg             11\n",
       "Heat             11\n",
       "Cool             11\n",
       "SeaLevel          9\n",
       "WetBulb           4\n",
       "StnPressure       4\n",
       "AvgSpeed          3\n",
       "PrecipTotal       2\n",
       "ResultDir         0\n",
       "ResultSpeed       0\n",
       "Station           0\n",
       "CodeSum           0\n",
       "Date              0\n",
       "Sunrise           0\n",
       "DewPoint          0\n",
       "Tmin              0\n",
       "Tmax              0\n",
       "Sunset            0\n",
       "dtype: int64"
      ]
     },
     "execution_count": 6,
     "metadata": {},
     "output_type": "execute_result"
    }
   ],
   "source": [
    "# Many 'M' in values. According to documentation M = 'Missing Data'\n",
    "weather.isin(['M']).sum().sort_values(ascending=False)"
   ]
  },
  {
   "cell_type": "code",
   "execution_count": 7,
   "id": "33048d54",
   "metadata": {},
   "outputs": [
    {
     "data": {
      "text/plain": [
       "Station          0\n",
       "Date             0\n",
       "Tmax             0\n",
       "Tmin             0\n",
       "Tavg             0\n",
       "Depart           0\n",
       "DewPoint         0\n",
       "WetBulb          0\n",
       "Heat             0\n",
       "Cool             0\n",
       "Sunrise          0\n",
       "Sunset           0\n",
       "CodeSum          0\n",
       "Depth            0\n",
       "Water1           0\n",
       "SnowFall        12\n",
       "PrecipTotal    318\n",
       "StnPressure      0\n",
       "SeaLevel         0\n",
       "ResultSpeed      0\n",
       "ResultDir        0\n",
       "AvgSpeed         0\n",
       "dtype: int64"
      ]
     },
     "execution_count": 7,
     "metadata": {},
     "output_type": "execute_result"
    }
   ],
   "source": [
    "# Some 'T' values. According to documentation T = 'Trace'\n",
    "weather.isin(['  T']).sum()"
   ]
  },
  {
   "cell_type": "code",
   "execution_count": 8,
   "id": "1c7e0d94",
   "metadata": {},
   "outputs": [
    {
     "data": {
      "text/plain": [
       "Station           0\n",
       "Date              0\n",
       "Tmax              0\n",
       "Tmin              0\n",
       "Tavg              0\n",
       "Depart            0\n",
       "DewPoint          0\n",
       "WetBulb           0\n",
       "Heat           1870\n",
       "Cool              0\n",
       "Sunrise           0\n",
       "Sunset            0\n",
       "CodeSum           0\n",
       "Depth          1472\n",
       "Water1            0\n",
       "SnowFall          0\n",
       "PrecipTotal       0\n",
       "StnPressure       0\n",
       "SeaLevel          0\n",
       "ResultSpeed       0\n",
       "ResultDir         0\n",
       "AvgSpeed          0\n",
       "dtype: int64"
      ]
     },
     "execution_count": 8,
     "metadata": {},
     "output_type": "execute_result"
    }
   ],
   "source": [
    "# Checking for zero values\n",
    "weather.isin(['0']).sum()"
   ]
  },
  {
   "cell_type": "code",
   "execution_count": 9,
   "id": "069295f3",
   "metadata": {},
   "outputs": [
    {
     "data": {
      "text/plain": [
       "Station           0\n",
       "Date              0\n",
       "Tmax              0\n",
       "Tmin              0\n",
       "Tavg              0\n",
       "Depart            0\n",
       "DewPoint          0\n",
       "WetBulb           0\n",
       "Heat              0\n",
       "Cool              0\n",
       "Sunrise           0\n",
       "Sunset            0\n",
       "CodeSum           0\n",
       "Depth             0\n",
       "Water1            0\n",
       "SnowFall       1459\n",
       "PrecipTotal       0\n",
       "StnPressure       0\n",
       "SeaLevel          0\n",
       "ResultSpeed       0\n",
       "ResultDir         0\n",
       "AvgSpeed          0\n",
       "dtype: int64"
      ]
     },
     "execution_count": 9,
     "metadata": {},
     "output_type": "execute_result"
    }
   ],
   "source": [
    "# Checking for zero values. \n",
    "weather.isin(['0.0']).sum()"
   ]
  },
  {
   "cell_type": "code",
   "execution_count": 10,
   "id": "4ecf07a5",
   "metadata": {},
   "outputs": [
    {
     "name": "stdout",
     "output_type": "stream",
     "text": [
      "<class 'pandas.core.frame.DataFrame'>\n",
      "RangeIndex: 2944 entries, 0 to 2943\n",
      "Data columns (total 22 columns):\n",
      " #   Column       Non-Null Count  Dtype  \n",
      "---  ------       --------------  -----  \n",
      " 0   Station      2944 non-null   int64  \n",
      " 1   Date         2944 non-null   object \n",
      " 2   Tmax         2944 non-null   int64  \n",
      " 3   Tmin         2944 non-null   int64  \n",
      " 4   Tavg         2944 non-null   object \n",
      " 5   Depart       2944 non-null   object \n",
      " 6   DewPoint     2944 non-null   int64  \n",
      " 7   WetBulb      2944 non-null   object \n",
      " 8   Heat         2944 non-null   object \n",
      " 9   Cool         2944 non-null   object \n",
      " 10  Sunrise      2944 non-null   object \n",
      " 11  Sunset       2944 non-null   object \n",
      " 12  CodeSum      2944 non-null   object \n",
      " 13  Depth        2944 non-null   object \n",
      " 14  Water1       2944 non-null   object \n",
      " 15  SnowFall     2944 non-null   object \n",
      " 16  PrecipTotal  2944 non-null   object \n",
      " 17  StnPressure  2944 non-null   object \n",
      " 18  SeaLevel     2944 non-null   object \n",
      " 19  ResultSpeed  2944 non-null   float64\n",
      " 20  ResultDir    2944 non-null   int64  \n",
      " 21  AvgSpeed     2944 non-null   object \n",
      "dtypes: float64(1), int64(5), object(16)\n",
      "memory usage: 506.1+ KB\n"
     ]
    }
   ],
   "source": [
    "weather.info()"
   ]
  },
  {
   "cell_type": "markdown",
   "id": "150a1476",
   "metadata": {},
   "source": [
    "## 4.2. Weather - Imputing / Dropping Features"
   ]
  },
  {
   "cell_type": "code",
   "execution_count": 11,
   "id": "2569cc9f",
   "metadata": {},
   "outputs": [],
   "source": [
    "# Dropping Water1, Depth and SnowFall as their data is most likely not imputable and therefore not of use to us.\n",
    "weather.drop(columns=['Water1', 'Depth', 'SnowFall'], inplace=True)"
   ]
  },
  {
   "cell_type": "code",
   "execution_count": 12,
   "id": "e26e3253",
   "metadata": {},
   "outputs": [],
   "source": [
    "# Function to impute Average Temperature\n",
    "def impute_tavg(row):\n",
    "    # Impute missing values for Tavg\n",
    "    if row['Tavg'] == 'M':\n",
    "        row['Tavg'] = round((row['Tmax'] + row['Tmin']) / 2)\n",
    "     \n",
    "    return row"
   ]
  },
  {
   "cell_type": "code",
   "execution_count": 13,
   "id": "90571e53",
   "metadata": {},
   "outputs": [],
   "source": [
    "weather = weather.apply(impute_tavg, axis=1)"
   ]
  },
  {
   "cell_type": "code",
   "execution_count": 14,
   "id": "959a8564",
   "metadata": {},
   "outputs": [
    {
     "data": {
      "text/plain": [
       "Depart         1472\n",
       "Cool             11\n",
       "Heat             11\n",
       "SeaLevel          9\n",
       "WetBulb           4\n",
       "StnPressure       4\n",
       "AvgSpeed          3\n",
       "PrecipTotal       2\n",
       "DewPoint          0\n",
       "Tavg              0\n",
       "Date              0\n",
       "Sunrise           0\n",
       "Sunset            0\n",
       "CodeSum           0\n",
       "Tmin              0\n",
       "Tmax              0\n",
       "ResultSpeed       0\n",
       "ResultDir         0\n",
       "Station           0\n",
       "dtype: int64"
      ]
     },
     "execution_count": 14,
     "metadata": {},
     "output_type": "execute_result"
    }
   ],
   "source": [
    "# Tavg is no longer 'M'\n",
    "weather.isin(['M']).sum().sort_values(ascending=False)"
   ]
  },
  {
   "cell_type": "code",
   "execution_count": 15,
   "id": "eca0ddbf",
   "metadata": {},
   "outputs": [],
   "source": [
    "# Function to impute Cooling and Heating Degrees - Base is 65\n",
    "\n",
    "def impute_heat_cool(row):\n",
    "    # Impute missing values for Cool and Warm\n",
    "    if row['Cool'] == 'M' or row['Heat'] == 'M':\n",
    "        heat_difference = 65 - row['Tavg']\n",
    "        if heat_difference < 0: \n",
    "            row['Cool'] = heat_difference\n",
    "            row['Heat'] = 0\n",
    "        elif heat_difference > 0:\n",
    "            row['Cool'] = 0\n",
    "            row['Heat'] = heat_difference\n",
    "        else:\n",
    "            row['Cool'] = row['Heat'] = 0\n",
    "    return row"
   ]
  },
  {
   "cell_type": "code",
   "execution_count": 16,
   "id": "8fe4ca10",
   "metadata": {},
   "outputs": [],
   "source": [
    "weather = weather.apply(impute_heat_cool, axis=1)"
   ]
  },
  {
   "cell_type": "code",
   "execution_count": 17,
   "id": "21a6afe9",
   "metadata": {},
   "outputs": [
    {
     "data": {
      "text/plain": [
       "Depart         1472\n",
       "SeaLevel          9\n",
       "StnPressure       4\n",
       "WetBulb           4\n",
       "AvgSpeed          3\n",
       "PrecipTotal       2\n",
       "Sunset            0\n",
       "ResultDir         0\n",
       "ResultSpeed       0\n",
       "CodeSum           0\n",
       "Station           0\n",
       "Sunrise           0\n",
       "Date              0\n",
       "Heat              0\n",
       "DewPoint          0\n",
       "Tavg              0\n",
       "Tmin              0\n",
       "Tmax              0\n",
       "Cool              0\n",
       "dtype: int64"
      ]
     },
     "execution_count": 17,
     "metadata": {},
     "output_type": "execute_result"
    }
   ],
   "source": [
    "# Heat/Cool is no longer 'M'\n",
    "weather.isin(['M']).sum().sort_values(ascending=False)"
   ]
  },
  {
   "cell_type": "code",
   "execution_count": 18,
   "id": "497c3d7d",
   "metadata": {},
   "outputs": [],
   "source": [
    "# Impute station 2 with departure from station 1's 30 year normal\n",
    "def impute_depart(row):\n",
    "    if row['Station'] == 2:\n",
    "        # Difference between avg temp of two stations\n",
    "        difference = int(row['Tavg']) - int(weather.loc[\n",
    "            (weather['Date'] == row['Date']) & \n",
    "            (weather['Station'] == 1), \n",
    "            'Tavg'\n",
    "        ])\n",
    "        # Impute with station 1's readings plus difference\n",
    "        row['Depart'] = int(weather.loc[\n",
    "            (weather['Date'] == row['Date']) & \n",
    "            (weather['Station'] == 1), \n",
    "            'Depart'\n",
    "        ]) + difference\n",
    "    return row"
   ]
  },
  {
   "cell_type": "code",
   "execution_count": 19,
   "id": "84ba09dd",
   "metadata": {},
   "outputs": [],
   "source": [
    "weather = weather.apply(impute_depart, axis=1)"
   ]
  },
  {
   "cell_type": "code",
   "execution_count": 20,
   "id": "62eb8ddd",
   "metadata": {},
   "outputs": [
    {
     "data": {
      "text/plain": [
       "SeaLevel       9\n",
       "StnPressure    4\n",
       "WetBulb        4\n",
       "AvgSpeed       3\n",
       "PrecipTotal    2\n",
       "Sunrise        0\n",
       "ResultDir      0\n",
       "ResultSpeed    0\n",
       "CodeSum        0\n",
       "Sunset         0\n",
       "Station        0\n",
       "Date           0\n",
       "Heat           0\n",
       "DewPoint       0\n",
       "Depart         0\n",
       "Tavg           0\n",
       "Tmin           0\n",
       "Tmax           0\n",
       "Cool           0\n",
       "dtype: int64"
      ]
     },
     "execution_count": 20,
     "metadata": {},
     "output_type": "execute_result"
    }
   ],
   "source": [
    "# Depart is no longer 'M'\n",
    "weather.isin(['M']).sum().sort_values(ascending=False)"
   ]
  },
  {
   "cell_type": "code",
   "execution_count": 21,
   "id": "9f7d06a3",
   "metadata": {},
   "outputs": [
    {
     "data": {
      "text/html": [
       "<div>\n",
       "<style scoped>\n",
       "    .dataframe tbody tr th:only-of-type {\n",
       "        vertical-align: middle;\n",
       "    }\n",
       "\n",
       "    .dataframe tbody tr th {\n",
       "        vertical-align: top;\n",
       "    }\n",
       "\n",
       "    .dataframe thead th {\n",
       "        text-align: right;\n",
       "    }\n",
       "</style>\n",
       "<table border=\"1\" class=\"dataframe\">\n",
       "  <thead>\n",
       "    <tr style=\"text-align: right;\">\n",
       "      <th></th>\n",
       "      <th>Station</th>\n",
       "      <th>Date</th>\n",
       "      <th>Tmax</th>\n",
       "      <th>Tmin</th>\n",
       "      <th>Tavg</th>\n",
       "      <th>Depart</th>\n",
       "      <th>DewPoint</th>\n",
       "      <th>WetBulb</th>\n",
       "      <th>Heat</th>\n",
       "      <th>Cool</th>\n",
       "      <th>Sunrise</th>\n",
       "      <th>Sunset</th>\n",
       "      <th>CodeSum</th>\n",
       "      <th>PrecipTotal</th>\n",
       "      <th>StnPressure</th>\n",
       "      <th>SeaLevel</th>\n",
       "      <th>ResultSpeed</th>\n",
       "      <th>ResultDir</th>\n",
       "      <th>AvgSpeed</th>\n",
       "    </tr>\n",
       "  </thead>\n",
       "  <tbody>\n",
       "    <tr>\n",
       "      <th>87</th>\n",
       "      <td>2</td>\n",
       "      <td>2007-06-13</td>\n",
       "      <td>86</td>\n",
       "      <td>68</td>\n",
       "      <td>77</td>\n",
       "      <td>9</td>\n",
       "      <td>53</td>\n",
       "      <td>62</td>\n",
       "      <td>0</td>\n",
       "      <td>12</td>\n",
       "      <td>-</td>\n",
       "      <td>-</td>\n",
       "      <td></td>\n",
       "      <td>0.00</td>\n",
       "      <td>M</td>\n",
       "      <td>M</td>\n",
       "      <td>7.0</td>\n",
       "      <td>5</td>\n",
       "      <td>M</td>\n",
       "    </tr>\n",
       "    <tr>\n",
       "      <th>848</th>\n",
       "      <td>1</td>\n",
       "      <td>2009-06-26</td>\n",
       "      <td>86</td>\n",
       "      <td>69</td>\n",
       "      <td>78</td>\n",
       "      <td>7</td>\n",
       "      <td>60</td>\n",
       "      <td>M</td>\n",
       "      <td>0</td>\n",
       "      <td>13</td>\n",
       "      <td>0418</td>\n",
       "      <td>1931</td>\n",
       "      <td></td>\n",
       "      <td>0.00</td>\n",
       "      <td>M</td>\n",
       "      <td>29.85</td>\n",
       "      <td>6.4</td>\n",
       "      <td>4</td>\n",
       "      <td>8.2</td>\n",
       "    </tr>\n",
       "    <tr>\n",
       "      <th>2410</th>\n",
       "      <td>1</td>\n",
       "      <td>2013-08-10</td>\n",
       "      <td>81</td>\n",
       "      <td>64</td>\n",
       "      <td>73</td>\n",
       "      <td>0</td>\n",
       "      <td>57</td>\n",
       "      <td>M</td>\n",
       "      <td>0</td>\n",
       "      <td>8</td>\n",
       "      <td>0454</td>\n",
       "      <td>1900</td>\n",
       "      <td></td>\n",
       "      <td>0.00</td>\n",
       "      <td>M</td>\n",
       "      <td>30.08</td>\n",
       "      <td>5.3</td>\n",
       "      <td>5</td>\n",
       "      <td>6.5</td>\n",
       "    </tr>\n",
       "    <tr>\n",
       "      <th>2411</th>\n",
       "      <td>2</td>\n",
       "      <td>2013-08-10</td>\n",
       "      <td>81</td>\n",
       "      <td>68</td>\n",
       "      <td>75</td>\n",
       "      <td>2</td>\n",
       "      <td>55</td>\n",
       "      <td>63</td>\n",
       "      <td>0</td>\n",
       "      <td>10</td>\n",
       "      <td>-</td>\n",
       "      <td>-</td>\n",
       "      <td></td>\n",
       "      <td>0.00</td>\n",
       "      <td>M</td>\n",
       "      <td>30.07</td>\n",
       "      <td>6.0</td>\n",
       "      <td>6</td>\n",
       "      <td>7.4</td>\n",
       "    </tr>\n",
       "  </tbody>\n",
       "</table>\n",
       "</div>"
      ],
      "text/plain": [
       "      Station        Date  Tmax  Tmin Tavg Depart  DewPoint WetBulb Heat Cool  \\\n",
       "87          2  2007-06-13    86    68   77      9        53      62    0   12   \n",
       "848         1  2009-06-26    86    69   78      7        60       M    0   13   \n",
       "2410        1  2013-08-10    81    64   73      0        57       M    0    8   \n",
       "2411        2  2013-08-10    81    68   75      2        55      63    0   10   \n",
       "\n",
       "     Sunrise Sunset CodeSum PrecipTotal StnPressure SeaLevel  ResultSpeed  \\\n",
       "87         -      -                0.00           M        M          7.0   \n",
       "848     0418   1931                0.00           M    29.85          6.4   \n",
       "2410    0454   1900                0.00           M    30.08          5.3   \n",
       "2411       -      -                0.00           M    30.07          6.0   \n",
       "\n",
       "      ResultDir AvgSpeed  \n",
       "87            5        M  \n",
       "848           4      8.2  \n",
       "2410          5      6.5  \n",
       "2411          6      7.4  "
      ]
     },
     "execution_count": 21,
     "metadata": {},
     "output_type": "execute_result"
    }
   ],
   "source": [
    "weather[weather['StnPressure'] == 'M']"
   ]
  },
  {
   "cell_type": "code",
   "execution_count": 22,
   "id": "465ae23a",
   "metadata": {},
   "outputs": [],
   "source": [
    "# Impute StnPressure by interpolating from previous & next day values\n",
    "for index, row in weather.loc[weather['StnPressure'].isin(['M'])].iterrows():\n",
    "    inter = (float(weather.iloc[(index - 2)]['StnPressure']) + \\\n",
    "             float(weather.iloc[(index + 2)]['StnPressure'])) / 2\n",
    "    weather.at[index, 'StnPressure'] = round(inter, 2)"
   ]
  },
  {
   "cell_type": "code",
   "execution_count": 23,
   "id": "cd2eeb9b",
   "metadata": {},
   "outputs": [
    {
     "data": {
      "text/plain": [
       "SeaLevel       9\n",
       "WetBulb        4\n",
       "AvgSpeed       3\n",
       "PrecipTotal    2\n",
       "Sunrise        0\n",
       "ResultDir      0\n",
       "ResultSpeed    0\n",
       "StnPressure    0\n",
       "CodeSum        0\n",
       "Sunset         0\n",
       "Station        0\n",
       "Date           0\n",
       "Heat           0\n",
       "DewPoint       0\n",
       "Depart         0\n",
       "Tavg           0\n",
       "Tmin           0\n",
       "Tmax           0\n",
       "Cool           0\n",
       "dtype: int64"
      ]
     },
     "execution_count": 23,
     "metadata": {},
     "output_type": "execute_result"
    }
   ],
   "source": [
    "# StnPressure is no longer 'M'\n",
    "weather.isin(['M']).sum().sort_values(ascending=False)"
   ]
  },
  {
   "cell_type": "code",
   "execution_count": 24,
   "id": "9ed348f7",
   "metadata": {},
   "outputs": [],
   "source": [
    "# Impute SeaLevel by interpolating from previous & next day values\n",
    "for index, row in weather.loc[weather['SeaLevel'].isin(['M'])].iterrows():\n",
    "    inter = (float(weather.iloc[(index - 2)]['SeaLevel']) + \\\n",
    "             float(weather.iloc[(index + 2)]['SeaLevel'])) / 2\n",
    "    weather.at[index, 'SeaLevel'] = round(inter, 2)"
   ]
  },
  {
   "cell_type": "code",
   "execution_count": 25,
   "id": "8bc1a9e0",
   "metadata": {},
   "outputs": [
    {
     "data": {
      "text/plain": [
       "WetBulb        4\n",
       "AvgSpeed       3\n",
       "PrecipTotal    2\n",
       "Sunrise        0\n",
       "ResultDir      0\n",
       "ResultSpeed    0\n",
       "SeaLevel       0\n",
       "StnPressure    0\n",
       "CodeSum        0\n",
       "Sunset         0\n",
       "Station        0\n",
       "Date           0\n",
       "Heat           0\n",
       "DewPoint       0\n",
       "Depart         0\n",
       "Tavg           0\n",
       "Tmin           0\n",
       "Tmax           0\n",
       "Cool           0\n",
       "dtype: int64"
      ]
     },
     "execution_count": 25,
     "metadata": {},
     "output_type": "execute_result"
    }
   ],
   "source": [
    "# SeaLevel is no longer 'M'\n",
    "weather.isin(['M']).sum().sort_values(ascending=False)"
   ]
  },
  {
   "cell_type": "code",
   "execution_count": 26,
   "id": "242dcd49",
   "metadata": {},
   "outputs": [],
   "source": [
    "# Imputing remaining missing values being wetbulb, average speed, preciptotal\n",
    "def impute_remaining(row):\n",
    "    if row['WetBulb'] == 'M':\n",
    "        if row['Station'] == 1:\n",
    "            row['WetBulb'] = weather.loc[\n",
    "                (weather['Date'] == row['Date']) & \n",
    "                (weather['Station'] == 2), \n",
    "                'WetBulb'\n",
    "            ].values[0]\n",
    "        else:\n",
    "            row['WetBulb'] = weather.loc[\n",
    "                (weather['Date'] == row['Date']) & \n",
    "                (weather['Station'] == 1), \n",
    "                'WetBulb'\n",
    "            ].values[0]\n",
    "        \n",
    "    if row['AvgSpeed'] == 'M':\n",
    "        row['AvgSpeed'] = weather.loc[\n",
    "            (weather['Date'] == row['Date']) & \n",
    "            (weather['Station'] == 1), \n",
    "            'AvgSpeed'\n",
    "        ].values[0]\n",
    "        \n",
    "    if row['PrecipTotal'] == 'M':\n",
    "        row['PrecipTotal'] = weather.loc[\n",
    "            (weather['Date'] == row['Date']) & \n",
    "            (weather['Station'] == 1), \n",
    "            'PrecipTotal'\n",
    "        ].values[0]\n",
    "    \n",
    "    return row"
   ]
  },
  {
   "cell_type": "code",
   "execution_count": 27,
   "id": "5229ebf0",
   "metadata": {},
   "outputs": [],
   "source": [
    "weather = weather.apply(impute_remaining, axis=1)"
   ]
  },
  {
   "cell_type": "code",
   "execution_count": 28,
   "id": "2d353a1a",
   "metadata": {},
   "outputs": [
    {
     "data": {
      "text/plain": [
       "Station        0\n",
       "Date           0\n",
       "Tmax           0\n",
       "Tmin           0\n",
       "Tavg           0\n",
       "Depart         0\n",
       "DewPoint       0\n",
       "WetBulb        0\n",
       "Heat           0\n",
       "Cool           0\n",
       "Sunrise        0\n",
       "Sunset         0\n",
       "CodeSum        0\n",
       "PrecipTotal    0\n",
       "StnPressure    0\n",
       "SeaLevel       0\n",
       "ResultSpeed    0\n",
       "ResultDir      0\n",
       "AvgSpeed       0\n",
       "dtype: int64"
      ]
     },
     "execution_count": 28,
     "metadata": {},
     "output_type": "execute_result"
    }
   ],
   "source": [
    "# No more missing values.\n",
    "weather.isin(['M']).sum()"
   ]
  },
  {
   "cell_type": "code",
   "execution_count": 29,
   "id": "69724420",
   "metadata": {},
   "outputs": [
    {
     "data": {
      "text/plain": [
       "Station        False\n",
       "Date           False\n",
       "Tmax           False\n",
       "Tmin           False\n",
       "Tavg           False\n",
       "Depart         False\n",
       "DewPoint       False\n",
       "WetBulb        False\n",
       "Heat           False\n",
       "Cool           False\n",
       "Sunrise         True\n",
       "Sunset          True\n",
       "CodeSum        False\n",
       "PrecipTotal     True\n",
       "StnPressure    False\n",
       "SeaLevel       False\n",
       "ResultSpeed    False\n",
       "ResultDir      False\n",
       "AvgSpeed       False\n",
       "dtype: bool"
      ]
     },
     "execution_count": 29,
     "metadata": {},
     "output_type": "execute_result"
    }
   ],
   "source": [
    "# Earlier on we still had some values that were \"Trace\" values, and we also have Missing values being '-'\n",
    "weather.isin(['-', '  T']).any()"
   ]
  },
  {
   "cell_type": "code",
   "execution_count": 30,
   "id": "22033050",
   "metadata": {},
   "outputs": [],
   "source": [
    "# Changing PrecipTotal trace to 0.01\n",
    "weather['PrecipTotal'] = weather['PrecipTotal'].apply(lambda x: 0.01 if 'T' in x else x)"
   ]
  },
  {
   "cell_type": "code",
   "execution_count": 31,
   "id": "af37e421",
   "metadata": {},
   "outputs": [],
   "source": [
    "# Change Date column from string to datetime\n",
    "weather['Date'] = pd.to_datetime(weather['Date'])"
   ]
  },
  {
   "cell_type": "code",
   "execution_count": 32,
   "id": "1f7cab84",
   "metadata": {},
   "outputs": [],
   "source": [
    "# Impute sunrise/sunset\n",
    "def impute_sun(row):\n",
    "    if row['Station'] == 2:\n",
    "        row['Sunrise'] = weather[(weather['Date'] == row['Date']) & (weather['Station'] == 1)]['Sunrise'].values[0]\n",
    "        row['Sunset'] = weather[(weather['Date'] == row['Date']) & (weather['Station'] == 1)]['Sunset'].values[0]\n",
    "    return row"
   ]
  },
  {
   "cell_type": "code",
   "execution_count": 33,
   "id": "9478fbc9",
   "metadata": {},
   "outputs": [],
   "source": [
    "weather = weather.apply(impute_sun, axis=1)"
   ]
  },
  {
   "cell_type": "code",
   "execution_count": 34,
   "id": "4006c9b6",
   "metadata": {},
   "outputs": [
    {
     "data": {
      "text/plain": [
       "Station        False\n",
       "Date           False\n",
       "Tmax           False\n",
       "Tmin           False\n",
       "Tavg           False\n",
       "Depart         False\n",
       "DewPoint       False\n",
       "WetBulb        False\n",
       "Heat           False\n",
       "Cool           False\n",
       "Sunrise        False\n",
       "Sunset         False\n",
       "CodeSum        False\n",
       "PrecipTotal    False\n",
       "StnPressure    False\n",
       "SeaLevel       False\n",
       "ResultSpeed    False\n",
       "ResultDir      False\n",
       "AvgSpeed       False\n",
       "dtype: bool"
      ]
     },
     "execution_count": 34,
     "metadata": {},
     "output_type": "execute_result"
    }
   ],
   "source": [
    "# We no longer have any missing '-' or T values\n",
    "weather.isin(['-', '  T']).any()"
   ]
  },
  {
   "cell_type": "markdown",
   "id": "14ec2fd3",
   "metadata": {},
   "source": [
    "## 4.3. Weather - Addressing CodeSum Column"
   ]
  },
  {
   "cell_type": "code",
   "execution_count": 35,
   "id": "9b8fd9f0",
   "metadata": {},
   "outputs": [
    {
     "data": {
      "text/html": [
       "<div>\n",
       "<style scoped>\n",
       "    .dataframe tbody tr th:only-of-type {\n",
       "        vertical-align: middle;\n",
       "    }\n",
       "\n",
       "    .dataframe tbody tr th {\n",
       "        vertical-align: top;\n",
       "    }\n",
       "\n",
       "    .dataframe thead th {\n",
       "        text-align: right;\n",
       "    }\n",
       "</style>\n",
       "<table border=\"1\" class=\"dataframe\">\n",
       "  <thead>\n",
       "    <tr style=\"text-align: right;\">\n",
       "      <th></th>\n",
       "      <th>Station</th>\n",
       "      <th>Date</th>\n",
       "      <th>Tmax</th>\n",
       "      <th>Tmin</th>\n",
       "      <th>Tavg</th>\n",
       "      <th>Depart</th>\n",
       "      <th>DewPoint</th>\n",
       "      <th>WetBulb</th>\n",
       "      <th>Heat</th>\n",
       "      <th>Cool</th>\n",
       "      <th>Sunrise</th>\n",
       "      <th>Sunset</th>\n",
       "      <th>CodeSum</th>\n",
       "      <th>PrecipTotal</th>\n",
       "      <th>StnPressure</th>\n",
       "      <th>SeaLevel</th>\n",
       "      <th>ResultSpeed</th>\n",
       "      <th>ResultDir</th>\n",
       "      <th>AvgSpeed</th>\n",
       "    </tr>\n",
       "  </thead>\n",
       "  <tbody>\n",
       "    <tr>\n",
       "      <th>0</th>\n",
       "      <td>1</td>\n",
       "      <td>2007-05-01</td>\n",
       "      <td>83</td>\n",
       "      <td>50</td>\n",
       "      <td>67</td>\n",
       "      <td>14</td>\n",
       "      <td>51</td>\n",
       "      <td>56</td>\n",
       "      <td>0</td>\n",
       "      <td>2</td>\n",
       "      <td>0448</td>\n",
       "      <td>1849</td>\n",
       "      <td></td>\n",
       "      <td>0.00</td>\n",
       "      <td>29.10</td>\n",
       "      <td>29.82</td>\n",
       "      <td>1.7</td>\n",
       "      <td>27</td>\n",
       "      <td>9.2</td>\n",
       "    </tr>\n",
       "    <tr>\n",
       "      <th>1</th>\n",
       "      <td>2</td>\n",
       "      <td>2007-05-01</td>\n",
       "      <td>84</td>\n",
       "      <td>52</td>\n",
       "      <td>68</td>\n",
       "      <td>15</td>\n",
       "      <td>51</td>\n",
       "      <td>57</td>\n",
       "      <td>0</td>\n",
       "      <td>3</td>\n",
       "      <td>0448</td>\n",
       "      <td>1849</td>\n",
       "      <td></td>\n",
       "      <td>0.00</td>\n",
       "      <td>29.18</td>\n",
       "      <td>29.82</td>\n",
       "      <td>2.7</td>\n",
       "      <td>25</td>\n",
       "      <td>9.6</td>\n",
       "    </tr>\n",
       "    <tr>\n",
       "      <th>2</th>\n",
       "      <td>1</td>\n",
       "      <td>2007-05-02</td>\n",
       "      <td>59</td>\n",
       "      <td>42</td>\n",
       "      <td>51</td>\n",
       "      <td>-3</td>\n",
       "      <td>42</td>\n",
       "      <td>47</td>\n",
       "      <td>14</td>\n",
       "      <td>0</td>\n",
       "      <td>0447</td>\n",
       "      <td>1850</td>\n",
       "      <td>BR</td>\n",
       "      <td>0.00</td>\n",
       "      <td>29.38</td>\n",
       "      <td>30.09</td>\n",
       "      <td>13.0</td>\n",
       "      <td>4</td>\n",
       "      <td>13.4</td>\n",
       "    </tr>\n",
       "    <tr>\n",
       "      <th>3</th>\n",
       "      <td>2</td>\n",
       "      <td>2007-05-02</td>\n",
       "      <td>60</td>\n",
       "      <td>43</td>\n",
       "      <td>52</td>\n",
       "      <td>-2</td>\n",
       "      <td>42</td>\n",
       "      <td>47</td>\n",
       "      <td>13</td>\n",
       "      <td>0</td>\n",
       "      <td>0447</td>\n",
       "      <td>1850</td>\n",
       "      <td>BR HZ</td>\n",
       "      <td>0.00</td>\n",
       "      <td>29.44</td>\n",
       "      <td>30.08</td>\n",
       "      <td>13.3</td>\n",
       "      <td>2</td>\n",
       "      <td>13.4</td>\n",
       "    </tr>\n",
       "    <tr>\n",
       "      <th>4</th>\n",
       "      <td>1</td>\n",
       "      <td>2007-05-03</td>\n",
       "      <td>66</td>\n",
       "      <td>46</td>\n",
       "      <td>56</td>\n",
       "      <td>2</td>\n",
       "      <td>40</td>\n",
       "      <td>48</td>\n",
       "      <td>9</td>\n",
       "      <td>0</td>\n",
       "      <td>0446</td>\n",
       "      <td>1851</td>\n",
       "      <td></td>\n",
       "      <td>0.00</td>\n",
       "      <td>29.39</td>\n",
       "      <td>30.12</td>\n",
       "      <td>11.7</td>\n",
       "      <td>7</td>\n",
       "      <td>11.9</td>\n",
       "    </tr>\n",
       "  </tbody>\n",
       "</table>\n",
       "</div>"
      ],
      "text/plain": [
       "   Station       Date  Tmax  Tmin Tavg Depart  DewPoint WetBulb Heat Cool  \\\n",
       "0        1 2007-05-01    83    50   67     14        51      56    0    2   \n",
       "1        2 2007-05-01    84    52   68     15        51      57    0    3   \n",
       "2        1 2007-05-02    59    42   51     -3        42      47   14    0   \n",
       "3        2 2007-05-02    60    43   52     -2        42      47   13    0   \n",
       "4        1 2007-05-03    66    46   56      2        40      48    9    0   \n",
       "\n",
       "  Sunrise Sunset CodeSum PrecipTotal StnPressure SeaLevel  ResultSpeed  \\\n",
       "0    0448   1849                0.00       29.10    29.82          1.7   \n",
       "1    0448   1849                0.00       29.18    29.82          2.7   \n",
       "2    0447   1850      BR        0.00       29.38    30.09         13.0   \n",
       "3    0447   1850   BR HZ        0.00       29.44    30.08         13.3   \n",
       "4    0446   1851                0.00       29.39    30.12         11.7   \n",
       "\n",
       "   ResultDir AvgSpeed  \n",
       "0         27      9.2  \n",
       "1         25      9.6  \n",
       "2          4     13.4  \n",
       "3          2     13.4  \n",
       "4          7     11.9  "
      ]
     },
     "execution_count": 35,
     "metadata": {},
     "output_type": "execute_result"
    }
   ],
   "source": [
    "weather.head()"
   ]
  },
  {
   "cell_type": "code",
   "execution_count": 36,
   "id": "4c485ad4",
   "metadata": {},
   "outputs": [],
   "source": [
    "snow = ['SN', 'SG', 'GS', 'PL', 'IC', 'DR', 'BC']\n",
    "windy = ['SQ', 'DS', 'SS', 'PO', 'BL']\n",
    "rain = ['TS', 'GR', 'RA', 'DZ', 'SH']\n",
    "lowvis = ['FG+', 'FG', 'BR', 'HZ']\n",
    "codesum_others = ['UP', 'VA', 'DU', 'SA', 'FZ']"
   ]
  },
  {
   "cell_type": "code",
   "execution_count": 37,
   "id": "ea531bac",
   "metadata": {},
   "outputs": [],
   "source": [
    "def codesum_split(row):\n",
    "    codes = row['CodeSum'].split()\n",
    "    \n",
    "    # Check for weather conditions\n",
    "    if any(code in codes for code in snow):\n",
    "        row['snow'] = 1\n",
    "    if any(code in codes for code in windy):\n",
    "        row['windy'] = 1 \n",
    "    if any(code in codes for code in rain):\n",
    "        row['rain'] = 1 \n",
    "    if any(code in codes for code in lowvis):\n",
    "        row['lowvis'] = 1\n",
    "    if any(code in codes for code in codesum_others):\n",
    "        row['codesum_others'] = 1\n",
    "        \n",
    "    return row"
   ]
  },
  {
   "cell_type": "code",
   "execution_count": 38,
   "id": "79dc80c9",
   "metadata": {},
   "outputs": [],
   "source": [
    "weather = weather.apply(codesum_split, axis=1)"
   ]
  },
  {
   "cell_type": "code",
   "execution_count": 39,
   "id": "a98f2cad",
   "metadata": {},
   "outputs": [
    {
     "data": {
      "text/plain": [
       "snow         6.0\n",
       "windy        3.0\n",
       "rain      1007.0\n",
       "lowvis     882.0\n",
       "dtype: float64"
      ]
     },
     "execution_count": 39,
     "metadata": {},
     "output_type": "execute_result"
    }
   ],
   "source": [
    "weather[['snow', 'windy', 'rain', 'lowvis']].sum()"
   ]
  },
  {
   "cell_type": "code",
   "execution_count": 40,
   "id": "71d139ae",
   "metadata": {},
   "outputs": [],
   "source": [
    "weather = weather.fillna(0)"
   ]
  },
  {
   "cell_type": "code",
   "execution_count": 41,
   "id": "fe48be36",
   "metadata": {},
   "outputs": [
    {
     "data": {
      "text/plain": [
       "AvgSpeed       0\n",
       "CodeSum        0\n",
       "Cool           0\n",
       "Date           0\n",
       "Depart         0\n",
       "DewPoint       0\n",
       "Heat           0\n",
       "PrecipTotal    0\n",
       "ResultDir      0\n",
       "ResultSpeed    0\n",
       "SeaLevel       0\n",
       "Station        0\n",
       "StnPressure    0\n",
       "Sunrise        0\n",
       "Sunset         0\n",
       "Tavg           0\n",
       "Tmax           0\n",
       "Tmin           0\n",
       "WetBulb        0\n",
       "lowvis         0\n",
       "rain           0\n",
       "snow           0\n",
       "windy          0\n",
       "dtype: int64"
      ]
     },
     "execution_count": 41,
     "metadata": {},
     "output_type": "execute_result"
    }
   ],
   "source": [
    "weather.isnull().sum()"
   ]
  },
  {
   "cell_type": "code",
   "execution_count": 42,
   "id": "5e0184f1",
   "metadata": {},
   "outputs": [],
   "source": [
    "# Dropping snow & windy due to extremely low variance\n",
    "weather = weather.drop(columns=['snow', 'windy'])"
   ]
  },
  {
   "cell_type": "code",
   "execution_count": 43,
   "id": "87d79115",
   "metadata": {},
   "outputs": [
    {
     "name": "stdout",
     "output_type": "stream",
     "text": [
      "CodeSum cannot be transformed into float\n",
      "Date cannot be transformed into float\n"
     ]
    }
   ],
   "source": [
    "# Convert remaining columns\n",
    "for col in weather.columns:\n",
    "    try:\n",
    "        weather[col] = weather[col].astype(float)\n",
    "    except:\n",
    "        print(col, 'cannot be transformed into float')\n",
    "        pass"
   ]
  },
  {
   "cell_type": "markdown",
   "id": "c58f8118",
   "metadata": {},
   "source": [
    "## 4.4. Merging Station 1 and Station 2 Values"
   ]
  },
  {
   "cell_type": "code",
   "execution_count": 44,
   "id": "e09985f7",
   "metadata": {},
   "outputs": [],
   "source": [
    "weather = weather.groupby('Date').sum() / 2\n",
    "weather = weather.drop(columns=['Station']).reset_index()"
   ]
  },
  {
   "cell_type": "code",
   "execution_count": 45,
   "id": "5dfb4745",
   "metadata": {},
   "outputs": [
    {
     "data": {
      "text/html": [
       "<div>\n",
       "<style scoped>\n",
       "    .dataframe tbody tr th:only-of-type {\n",
       "        vertical-align: middle;\n",
       "    }\n",
       "\n",
       "    .dataframe tbody tr th {\n",
       "        vertical-align: top;\n",
       "    }\n",
       "\n",
       "    .dataframe thead th {\n",
       "        text-align: right;\n",
       "    }\n",
       "</style>\n",
       "<table border=\"1\" class=\"dataframe\">\n",
       "  <thead>\n",
       "    <tr style=\"text-align: right;\">\n",
       "      <th></th>\n",
       "      <th>Date</th>\n",
       "      <th>AvgSpeed</th>\n",
       "      <th>Cool</th>\n",
       "      <th>Depart</th>\n",
       "      <th>DewPoint</th>\n",
       "      <th>Heat</th>\n",
       "      <th>PrecipTotal</th>\n",
       "      <th>ResultDir</th>\n",
       "      <th>ResultSpeed</th>\n",
       "      <th>SeaLevel</th>\n",
       "      <th>StnPressure</th>\n",
       "      <th>Sunrise</th>\n",
       "      <th>Sunset</th>\n",
       "      <th>Tavg</th>\n",
       "      <th>Tmax</th>\n",
       "      <th>Tmin</th>\n",
       "      <th>WetBulb</th>\n",
       "      <th>lowvis</th>\n",
       "      <th>rain</th>\n",
       "    </tr>\n",
       "  </thead>\n",
       "  <tbody>\n",
       "    <tr>\n",
       "      <th>0</th>\n",
       "      <td>2007-05-01</td>\n",
       "      <td>9.40</td>\n",
       "      <td>2.5</td>\n",
       "      <td>14.5</td>\n",
       "      <td>51.0</td>\n",
       "      <td>0.0</td>\n",
       "      <td>0.000</td>\n",
       "      <td>26.0</td>\n",
       "      <td>2.20</td>\n",
       "      <td>29.820</td>\n",
       "      <td>29.140</td>\n",
       "      <td>448.0</td>\n",
       "      <td>1849.0</td>\n",
       "      <td>67.5</td>\n",
       "      <td>83.5</td>\n",
       "      <td>51.0</td>\n",
       "      <td>56.5</td>\n",
       "      <td>0.0</td>\n",
       "      <td>0.0</td>\n",
       "    </tr>\n",
       "    <tr>\n",
       "      <th>1</th>\n",
       "      <td>2007-05-02</td>\n",
       "      <td>13.40</td>\n",
       "      <td>0.0</td>\n",
       "      <td>-2.5</td>\n",
       "      <td>42.0</td>\n",
       "      <td>13.5</td>\n",
       "      <td>0.000</td>\n",
       "      <td>3.0</td>\n",
       "      <td>13.15</td>\n",
       "      <td>30.085</td>\n",
       "      <td>29.410</td>\n",
       "      <td>447.0</td>\n",
       "      <td>1850.0</td>\n",
       "      <td>51.5</td>\n",
       "      <td>59.5</td>\n",
       "      <td>42.5</td>\n",
       "      <td>47.0</td>\n",
       "      <td>1.0</td>\n",
       "      <td>0.0</td>\n",
       "    </tr>\n",
       "    <tr>\n",
       "      <th>2</th>\n",
       "      <td>2007-05-03</td>\n",
       "      <td>12.55</td>\n",
       "      <td>0.0</td>\n",
       "      <td>3.0</td>\n",
       "      <td>40.0</td>\n",
       "      <td>8.0</td>\n",
       "      <td>0.000</td>\n",
       "      <td>6.5</td>\n",
       "      <td>12.30</td>\n",
       "      <td>30.120</td>\n",
       "      <td>29.425</td>\n",
       "      <td>446.0</td>\n",
       "      <td>1851.0</td>\n",
       "      <td>57.0</td>\n",
       "      <td>66.5</td>\n",
       "      <td>47.0</td>\n",
       "      <td>49.0</td>\n",
       "      <td>0.5</td>\n",
       "      <td>0.0</td>\n",
       "    </tr>\n",
       "    <tr>\n",
       "      <th>3</th>\n",
       "      <td>2007-05-04</td>\n",
       "      <td>10.60</td>\n",
       "      <td>0.0</td>\n",
       "      <td>7.0</td>\n",
       "      <td>41.5</td>\n",
       "      <td>4.0</td>\n",
       "      <td>0.005</td>\n",
       "      <td>7.5</td>\n",
       "      <td>10.25</td>\n",
       "      <td>30.045</td>\n",
       "      <td>29.335</td>\n",
       "      <td>444.0</td>\n",
       "      <td>1852.0</td>\n",
       "      <td>61.0</td>\n",
       "      <td>72.0</td>\n",
       "      <td>50.0</td>\n",
       "      <td>50.0</td>\n",
       "      <td>0.0</td>\n",
       "      <td>0.5</td>\n",
       "    </tr>\n",
       "    <tr>\n",
       "      <th>4</th>\n",
       "      <td>2007-05-05</td>\n",
       "      <td>11.75</td>\n",
       "      <td>0.0</td>\n",
       "      <td>5.0</td>\n",
       "      <td>38.5</td>\n",
       "      <td>5.0</td>\n",
       "      <td>0.010</td>\n",
       "      <td>7.0</td>\n",
       "      <td>11.45</td>\n",
       "      <td>30.095</td>\n",
       "      <td>29.430</td>\n",
       "      <td>443.0</td>\n",
       "      <td>1853.0</td>\n",
       "      <td>60.0</td>\n",
       "      <td>66.0</td>\n",
       "      <td>53.5</td>\n",
       "      <td>49.5</td>\n",
       "      <td>0.0</td>\n",
       "      <td>0.0</td>\n",
       "    </tr>\n",
       "    <tr>\n",
       "      <th>...</th>\n",
       "      <td>...</td>\n",
       "      <td>...</td>\n",
       "      <td>...</td>\n",
       "      <td>...</td>\n",
       "      <td>...</td>\n",
       "      <td>...</td>\n",
       "      <td>...</td>\n",
       "      <td>...</td>\n",
       "      <td>...</td>\n",
       "      <td>...</td>\n",
       "      <td>...</td>\n",
       "      <td>...</td>\n",
       "      <td>...</td>\n",
       "      <td>...</td>\n",
       "      <td>...</td>\n",
       "      <td>...</td>\n",
       "      <td>...</td>\n",
       "      <td>...</td>\n",
       "      <td>...</td>\n",
       "    </tr>\n",
       "    <tr>\n",
       "      <th>1467</th>\n",
       "      <td>2014-10-27</td>\n",
       "      <td>13.25</td>\n",
       "      <td>1.0</td>\n",
       "      <td>17.5</td>\n",
       "      <td>51.5</td>\n",
       "      <td>0.5</td>\n",
       "      <td>0.010</td>\n",
       "      <td>19.0</td>\n",
       "      <td>12.35</td>\n",
       "      <td>29.665</td>\n",
       "      <td>28.960</td>\n",
       "      <td>618.0</td>\n",
       "      <td>1653.0</td>\n",
       "      <td>65.5</td>\n",
       "      <td>78.0</td>\n",
       "      <td>52.5</td>\n",
       "      <td>58.5</td>\n",
       "      <td>0.0</td>\n",
       "      <td>0.5</td>\n",
       "    </tr>\n",
       "    <tr>\n",
       "      <th>1468</th>\n",
       "      <td>2014-10-28</td>\n",
       "      <td>15.10</td>\n",
       "      <td>0.0</td>\n",
       "      <td>10.0</td>\n",
       "      <td>39.0</td>\n",
       "      <td>8.0</td>\n",
       "      <td>0.020</td>\n",
       "      <td>26.0</td>\n",
       "      <td>14.40</td>\n",
       "      <td>29.850</td>\n",
       "      <td>29.190</td>\n",
       "      <td>619.0</td>\n",
       "      <td>1651.0</td>\n",
       "      <td>57.0</td>\n",
       "      <td>67.0</td>\n",
       "      <td>46.5</td>\n",
       "      <td>47.5</td>\n",
       "      <td>0.0</td>\n",
       "      <td>0.5</td>\n",
       "    </tr>\n",
       "    <tr>\n",
       "      <th>1469</th>\n",
       "      <td>2014-10-29</td>\n",
       "      <td>9.45</td>\n",
       "      <td>0.0</td>\n",
       "      <td>-3.0</td>\n",
       "      <td>33.0</td>\n",
       "      <td>21.0</td>\n",
       "      <td>0.000</td>\n",
       "      <td>29.0</td>\n",
       "      <td>9.00</td>\n",
       "      <td>30.065</td>\n",
       "      <td>29.390</td>\n",
       "      <td>620.0</td>\n",
       "      <td>1650.0</td>\n",
       "      <td>44.0</td>\n",
       "      <td>49.0</td>\n",
       "      <td>38.0</td>\n",
       "      <td>41.0</td>\n",
       "      <td>0.0</td>\n",
       "      <td>0.0</td>\n",
       "    </tr>\n",
       "    <tr>\n",
       "      <th>1470</th>\n",
       "      <td>2014-10-30</td>\n",
       "      <td>6.00</td>\n",
       "      <td>0.0</td>\n",
       "      <td>-2.5</td>\n",
       "      <td>34.5</td>\n",
       "      <td>21.5</td>\n",
       "      <td>0.005</td>\n",
       "      <td>23.5</td>\n",
       "      <td>5.50</td>\n",
       "      <td>30.095</td>\n",
       "      <td>29.375</td>\n",
       "      <td>622.0</td>\n",
       "      <td>1649.0</td>\n",
       "      <td>43.5</td>\n",
       "      <td>52.0</td>\n",
       "      <td>34.5</td>\n",
       "      <td>41.0</td>\n",
       "      <td>0.0</td>\n",
       "      <td>0.5</td>\n",
       "    </tr>\n",
       "    <tr>\n",
       "      <th>1471</th>\n",
       "      <td>2014-10-31</td>\n",
       "      <td>22.75</td>\n",
       "      <td>0.0</td>\n",
       "      <td>-5.0</td>\n",
       "      <td>27.0</td>\n",
       "      <td>24.0</td>\n",
       "      <td>0.035</td>\n",
       "      <td>34.0</td>\n",
       "      <td>22.15</td>\n",
       "      <td>30.200</td>\n",
       "      <td>29.515</td>\n",
       "      <td>623.0</td>\n",
       "      <td>1647.0</td>\n",
       "      <td>41.0</td>\n",
       "      <td>48.0</td>\n",
       "      <td>33.5</td>\n",
       "      <td>34.5</td>\n",
       "      <td>0.5</td>\n",
       "      <td>1.0</td>\n",
       "    </tr>\n",
       "  </tbody>\n",
       "</table>\n",
       "<p>1472 rows × 19 columns</p>\n",
       "</div>"
      ],
      "text/plain": [
       "           Date  AvgSpeed  Cool  Depart  DewPoint  Heat  PrecipTotal  \\\n",
       "0    2007-05-01      9.40   2.5    14.5      51.0   0.0        0.000   \n",
       "1    2007-05-02     13.40   0.0    -2.5      42.0  13.5        0.000   \n",
       "2    2007-05-03     12.55   0.0     3.0      40.0   8.0        0.000   \n",
       "3    2007-05-04     10.60   0.0     7.0      41.5   4.0        0.005   \n",
       "4    2007-05-05     11.75   0.0     5.0      38.5   5.0        0.010   \n",
       "...         ...       ...   ...     ...       ...   ...          ...   \n",
       "1467 2014-10-27     13.25   1.0    17.5      51.5   0.5        0.010   \n",
       "1468 2014-10-28     15.10   0.0    10.0      39.0   8.0        0.020   \n",
       "1469 2014-10-29      9.45   0.0    -3.0      33.0  21.0        0.000   \n",
       "1470 2014-10-30      6.00   0.0    -2.5      34.5  21.5        0.005   \n",
       "1471 2014-10-31     22.75   0.0    -5.0      27.0  24.0        0.035   \n",
       "\n",
       "      ResultDir  ResultSpeed  SeaLevel  StnPressure  Sunrise  Sunset  Tavg  \\\n",
       "0          26.0         2.20    29.820       29.140    448.0  1849.0  67.5   \n",
       "1           3.0        13.15    30.085       29.410    447.0  1850.0  51.5   \n",
       "2           6.5        12.30    30.120       29.425    446.0  1851.0  57.0   \n",
       "3           7.5        10.25    30.045       29.335    444.0  1852.0  61.0   \n",
       "4           7.0        11.45    30.095       29.430    443.0  1853.0  60.0   \n",
       "...         ...          ...       ...          ...      ...     ...   ...   \n",
       "1467       19.0        12.35    29.665       28.960    618.0  1653.0  65.5   \n",
       "1468       26.0        14.40    29.850       29.190    619.0  1651.0  57.0   \n",
       "1469       29.0         9.00    30.065       29.390    620.0  1650.0  44.0   \n",
       "1470       23.5         5.50    30.095       29.375    622.0  1649.0  43.5   \n",
       "1471       34.0        22.15    30.200       29.515    623.0  1647.0  41.0   \n",
       "\n",
       "      Tmax  Tmin  WetBulb  lowvis  rain  \n",
       "0     83.5  51.0     56.5     0.0   0.0  \n",
       "1     59.5  42.5     47.0     1.0   0.0  \n",
       "2     66.5  47.0     49.0     0.5   0.0  \n",
       "3     72.0  50.0     50.0     0.0   0.5  \n",
       "4     66.0  53.5     49.5     0.0   0.0  \n",
       "...    ...   ...      ...     ...   ...  \n",
       "1467  78.0  52.5     58.5     0.0   0.5  \n",
       "1468  67.0  46.5     47.5     0.0   0.5  \n",
       "1469  49.0  38.0     41.0     0.0   0.0  \n",
       "1470  52.0  34.5     41.0     0.0   0.5  \n",
       "1471  48.0  33.5     34.5     0.5   1.0  \n",
       "\n",
       "[1472 rows x 19 columns]"
      ]
     },
     "execution_count": 45,
     "metadata": {},
     "output_type": "execute_result"
    }
   ],
   "source": [
    "weather"
   ]
  },
  {
   "cell_type": "code",
   "execution_count": 46,
   "id": "395cf8a2",
   "metadata": {},
   "outputs": [],
   "source": [
    "weather.to_csv('./datasets/cleaned_weather.csv', index=False)"
   ]
  },
  {
   "cell_type": "markdown",
   "id": "0ceab1cf",
   "metadata": {},
   "source": [
    "# 5. Train - Data Cleaning"
   ]
  },
  {
   "cell_type": "markdown",
   "id": "a981f778",
   "metadata": {},
   "source": [
    "## 5.1. Train - Initial Analysis"
   ]
  },
  {
   "cell_type": "code",
   "execution_count": 47,
   "id": "e037aca9",
   "metadata": {},
   "outputs": [
    {
     "data": {
      "text/html": [
       "<div>\n",
       "<style scoped>\n",
       "    .dataframe tbody tr th:only-of-type {\n",
       "        vertical-align: middle;\n",
       "    }\n",
       "\n",
       "    .dataframe tbody tr th {\n",
       "        vertical-align: top;\n",
       "    }\n",
       "\n",
       "    .dataframe thead th {\n",
       "        text-align: right;\n",
       "    }\n",
       "</style>\n",
       "<table border=\"1\" class=\"dataframe\">\n",
       "  <thead>\n",
       "    <tr style=\"text-align: right;\">\n",
       "      <th></th>\n",
       "      <th>Date</th>\n",
       "      <th>Address</th>\n",
       "      <th>Species</th>\n",
       "      <th>Block</th>\n",
       "      <th>Street</th>\n",
       "      <th>Trap</th>\n",
       "      <th>AddressNumberAndStreet</th>\n",
       "      <th>Latitude</th>\n",
       "      <th>Longitude</th>\n",
       "      <th>AddressAccuracy</th>\n",
       "      <th>NumMosquitos</th>\n",
       "      <th>WnvPresent</th>\n",
       "    </tr>\n",
       "  </thead>\n",
       "  <tbody>\n",
       "    <tr>\n",
       "      <th>0</th>\n",
       "      <td>2007-05-29</td>\n",
       "      <td>4100 North Oak Park Avenue, Chicago, IL 60634,...</td>\n",
       "      <td>CULEX PIPIENS/RESTUANS</td>\n",
       "      <td>41</td>\n",
       "      <td>N OAK PARK AVE</td>\n",
       "      <td>T002</td>\n",
       "      <td>4100  N OAK PARK AVE, Chicago, IL</td>\n",
       "      <td>41.954690</td>\n",
       "      <td>-87.800991</td>\n",
       "      <td>9</td>\n",
       "      <td>1</td>\n",
       "      <td>0</td>\n",
       "    </tr>\n",
       "    <tr>\n",
       "      <th>1</th>\n",
       "      <td>2007-05-29</td>\n",
       "      <td>4100 North Oak Park Avenue, Chicago, IL 60634,...</td>\n",
       "      <td>CULEX RESTUANS</td>\n",
       "      <td>41</td>\n",
       "      <td>N OAK PARK AVE</td>\n",
       "      <td>T002</td>\n",
       "      <td>4100  N OAK PARK AVE, Chicago, IL</td>\n",
       "      <td>41.954690</td>\n",
       "      <td>-87.800991</td>\n",
       "      <td>9</td>\n",
       "      <td>1</td>\n",
       "      <td>0</td>\n",
       "    </tr>\n",
       "    <tr>\n",
       "      <th>2</th>\n",
       "      <td>2007-05-29</td>\n",
       "      <td>6200 North Mandell Avenue, Chicago, IL 60646, USA</td>\n",
       "      <td>CULEX RESTUANS</td>\n",
       "      <td>62</td>\n",
       "      <td>N MANDELL AVE</td>\n",
       "      <td>T007</td>\n",
       "      <td>6200  N MANDELL AVE, Chicago, IL</td>\n",
       "      <td>41.994991</td>\n",
       "      <td>-87.769279</td>\n",
       "      <td>9</td>\n",
       "      <td>1</td>\n",
       "      <td>0</td>\n",
       "    </tr>\n",
       "    <tr>\n",
       "      <th>3</th>\n",
       "      <td>2007-05-29</td>\n",
       "      <td>7900 West Foster Avenue, Chicago, IL 60656, USA</td>\n",
       "      <td>CULEX PIPIENS/RESTUANS</td>\n",
       "      <td>79</td>\n",
       "      <td>W FOSTER AVE</td>\n",
       "      <td>T015</td>\n",
       "      <td>7900  W FOSTER AVE, Chicago, IL</td>\n",
       "      <td>41.974089</td>\n",
       "      <td>-87.824812</td>\n",
       "      <td>8</td>\n",
       "      <td>1</td>\n",
       "      <td>0</td>\n",
       "    </tr>\n",
       "    <tr>\n",
       "      <th>4</th>\n",
       "      <td>2007-05-29</td>\n",
       "      <td>7900 West Foster Avenue, Chicago, IL 60656, USA</td>\n",
       "      <td>CULEX RESTUANS</td>\n",
       "      <td>79</td>\n",
       "      <td>W FOSTER AVE</td>\n",
       "      <td>T015</td>\n",
       "      <td>7900  W FOSTER AVE, Chicago, IL</td>\n",
       "      <td>41.974089</td>\n",
       "      <td>-87.824812</td>\n",
       "      <td>8</td>\n",
       "      <td>4</td>\n",
       "      <td>0</td>\n",
       "    </tr>\n",
       "  </tbody>\n",
       "</table>\n",
       "</div>"
      ],
      "text/plain": [
       "         Date                                            Address  \\\n",
       "0  2007-05-29  4100 North Oak Park Avenue, Chicago, IL 60634,...   \n",
       "1  2007-05-29  4100 North Oak Park Avenue, Chicago, IL 60634,...   \n",
       "2  2007-05-29  6200 North Mandell Avenue, Chicago, IL 60646, USA   \n",
       "3  2007-05-29    7900 West Foster Avenue, Chicago, IL 60656, USA   \n",
       "4  2007-05-29    7900 West Foster Avenue, Chicago, IL 60656, USA   \n",
       "\n",
       "                  Species  Block           Street  Trap  \\\n",
       "0  CULEX PIPIENS/RESTUANS     41   N OAK PARK AVE  T002   \n",
       "1          CULEX RESTUANS     41   N OAK PARK AVE  T002   \n",
       "2          CULEX RESTUANS     62    N MANDELL AVE  T007   \n",
       "3  CULEX PIPIENS/RESTUANS     79     W FOSTER AVE  T015   \n",
       "4          CULEX RESTUANS     79     W FOSTER AVE  T015   \n",
       "\n",
       "              AddressNumberAndStreet   Latitude  Longitude  AddressAccuracy  \\\n",
       "0  4100  N OAK PARK AVE, Chicago, IL  41.954690 -87.800991                9   \n",
       "1  4100  N OAK PARK AVE, Chicago, IL  41.954690 -87.800991                9   \n",
       "2   6200  N MANDELL AVE, Chicago, IL  41.994991 -87.769279                9   \n",
       "3    7900  W FOSTER AVE, Chicago, IL  41.974089 -87.824812                8   \n",
       "4    7900  W FOSTER AVE, Chicago, IL  41.974089 -87.824812                8   \n",
       "\n",
       "   NumMosquitos  WnvPresent  \n",
       "0             1           0  \n",
       "1             1           0  \n",
       "2             1           0  \n",
       "3             1           0  \n",
       "4             4           0  "
      ]
     },
     "execution_count": 47,
     "metadata": {},
     "output_type": "execute_result"
    }
   ],
   "source": [
    "train.head()"
   ]
  },
  {
   "cell_type": "code",
   "execution_count": 48,
   "id": "13c56f7f",
   "metadata": {},
   "outputs": [
    {
     "data": {
      "text/plain": [
       "Date                      0\n",
       "Address                   0\n",
       "Species                   0\n",
       "Block                     0\n",
       "Street                    0\n",
       "Trap                      0\n",
       "AddressNumberAndStreet    0\n",
       "Latitude                  0\n",
       "Longitude                 0\n",
       "AddressAccuracy           0\n",
       "NumMosquitos              0\n",
       "WnvPresent                0\n",
       "dtype: int64"
      ]
     },
     "execution_count": 48,
     "metadata": {},
     "output_type": "execute_result"
    }
   ],
   "source": [
    "train.isnull().sum()"
   ]
  },
  {
   "cell_type": "code",
   "execution_count": 49,
   "id": "c59a4faf",
   "metadata": {},
   "outputs": [
    {
     "data": {
      "text/plain": [
       "(10506, 12)"
      ]
     },
     "execution_count": 49,
     "metadata": {},
     "output_type": "execute_result"
    }
   ],
   "source": [
    "train.shape"
   ]
  },
  {
   "cell_type": "code",
   "execution_count": 50,
   "id": "57dc42ec",
   "metadata": {},
   "outputs": [
    {
     "data": {
      "text/plain": [
       "Index(['Date', 'Address', 'Species', 'Block', 'Street', 'Trap',\n",
       "       'AddressNumberAndStreet', 'Latitude', 'Longitude', 'AddressAccuracy',\n",
       "       'NumMosquitos', 'WnvPresent'],\n",
       "      dtype='object')"
      ]
     },
     "execution_count": 50,
     "metadata": {},
     "output_type": "execute_result"
    }
   ],
   "source": [
    "train.columns"
   ]
  },
  {
   "cell_type": "code",
   "execution_count": 51,
   "id": "ddbfcc8d",
   "metadata": {},
   "outputs": [
    {
     "data": {
      "text/plain": [
       "Date                       object\n",
       "Address                    object\n",
       "Species                    object\n",
       "Block                       int64\n",
       "Street                     object\n",
       "Trap                       object\n",
       "AddressNumberAndStreet     object\n",
       "Latitude                  float64\n",
       "Longitude                 float64\n",
       "AddressAccuracy             int64\n",
       "NumMosquitos                int64\n",
       "WnvPresent                  int64\n",
       "dtype: object"
      ]
     },
     "execution_count": 51,
     "metadata": {},
     "output_type": "execute_result"
    }
   ],
   "source": [
    "train.dtypes"
   ]
  },
  {
   "cell_type": "code",
   "execution_count": 52,
   "id": "3340f8b9",
   "metadata": {},
   "outputs": [
    {
     "data": {
      "text/plain": [
       "813"
      ]
     },
     "execution_count": 52,
     "metadata": {},
     "output_type": "execute_result"
    }
   ],
   "source": [
    "train.duplicated().sum()"
   ]
  },
  {
   "cell_type": "code",
   "execution_count": 53,
   "id": "c1f165a6",
   "metadata": {},
   "outputs": [],
   "source": [
    "train.drop_duplicates(ignore_index=True, inplace=True)"
   ]
  },
  {
   "cell_type": "code",
   "execution_count": 54,
   "id": "99c119db",
   "metadata": {},
   "outputs": [],
   "source": [
    "train['Date'] = pd.to_datetime(train['Date'])"
   ]
  },
  {
   "cell_type": "code",
   "execution_count": 55,
   "id": "35759130",
   "metadata": {},
   "outputs": [],
   "source": [
    "train.to_csv('./datasets/cleaned_train.csv', index=False)"
   ]
  },
  {
   "cell_type": "markdown",
   "id": "f33ddec8",
   "metadata": {},
   "source": [
    "# 6. Test - Data Cleaning"
   ]
  },
  {
   "cell_type": "markdown",
   "id": "137e1c1a",
   "metadata": {},
   "source": [
    "## 6.1. Test - Initial Analysis"
   ]
  },
  {
   "cell_type": "code",
   "execution_count": 56,
   "id": "8b09a776",
   "metadata": {},
   "outputs": [
    {
     "data": {
      "text/html": [
       "<div>\n",
       "<style scoped>\n",
       "    .dataframe tbody tr th:only-of-type {\n",
       "        vertical-align: middle;\n",
       "    }\n",
       "\n",
       "    .dataframe tbody tr th {\n",
       "        vertical-align: top;\n",
       "    }\n",
       "\n",
       "    .dataframe thead th {\n",
       "        text-align: right;\n",
       "    }\n",
       "</style>\n",
       "<table border=\"1\" class=\"dataframe\">\n",
       "  <thead>\n",
       "    <tr style=\"text-align: right;\">\n",
       "      <th></th>\n",
       "      <th>Id</th>\n",
       "      <th>Date</th>\n",
       "      <th>Address</th>\n",
       "      <th>Species</th>\n",
       "      <th>Block</th>\n",
       "      <th>Street</th>\n",
       "      <th>Trap</th>\n",
       "      <th>AddressNumberAndStreet</th>\n",
       "      <th>Latitude</th>\n",
       "      <th>Longitude</th>\n",
       "      <th>AddressAccuracy</th>\n",
       "    </tr>\n",
       "  </thead>\n",
       "  <tbody>\n",
       "    <tr>\n",
       "      <th>0</th>\n",
       "      <td>1</td>\n",
       "      <td>2008-06-11</td>\n",
       "      <td>4100 North Oak Park Avenue, Chicago, IL 60634,...</td>\n",
       "      <td>CULEX PIPIENS/RESTUANS</td>\n",
       "      <td>41</td>\n",
       "      <td>N OAK PARK AVE</td>\n",
       "      <td>T002</td>\n",
       "      <td>4100  N OAK PARK AVE, Chicago, IL</td>\n",
       "      <td>41.95469</td>\n",
       "      <td>-87.800991</td>\n",
       "      <td>9</td>\n",
       "    </tr>\n",
       "    <tr>\n",
       "      <th>1</th>\n",
       "      <td>2</td>\n",
       "      <td>2008-06-11</td>\n",
       "      <td>4100 North Oak Park Avenue, Chicago, IL 60634,...</td>\n",
       "      <td>CULEX RESTUANS</td>\n",
       "      <td>41</td>\n",
       "      <td>N OAK PARK AVE</td>\n",
       "      <td>T002</td>\n",
       "      <td>4100  N OAK PARK AVE, Chicago, IL</td>\n",
       "      <td>41.95469</td>\n",
       "      <td>-87.800991</td>\n",
       "      <td>9</td>\n",
       "    </tr>\n",
       "    <tr>\n",
       "      <th>2</th>\n",
       "      <td>3</td>\n",
       "      <td>2008-06-11</td>\n",
       "      <td>4100 North Oak Park Avenue, Chicago, IL 60634,...</td>\n",
       "      <td>CULEX PIPIENS</td>\n",
       "      <td>41</td>\n",
       "      <td>N OAK PARK AVE</td>\n",
       "      <td>T002</td>\n",
       "      <td>4100  N OAK PARK AVE, Chicago, IL</td>\n",
       "      <td>41.95469</td>\n",
       "      <td>-87.800991</td>\n",
       "      <td>9</td>\n",
       "    </tr>\n",
       "    <tr>\n",
       "      <th>3</th>\n",
       "      <td>4</td>\n",
       "      <td>2008-06-11</td>\n",
       "      <td>4100 North Oak Park Avenue, Chicago, IL 60634,...</td>\n",
       "      <td>CULEX SALINARIUS</td>\n",
       "      <td>41</td>\n",
       "      <td>N OAK PARK AVE</td>\n",
       "      <td>T002</td>\n",
       "      <td>4100  N OAK PARK AVE, Chicago, IL</td>\n",
       "      <td>41.95469</td>\n",
       "      <td>-87.800991</td>\n",
       "      <td>9</td>\n",
       "    </tr>\n",
       "    <tr>\n",
       "      <th>4</th>\n",
       "      <td>5</td>\n",
       "      <td>2008-06-11</td>\n",
       "      <td>4100 North Oak Park Avenue, Chicago, IL 60634,...</td>\n",
       "      <td>CULEX TERRITANS</td>\n",
       "      <td>41</td>\n",
       "      <td>N OAK PARK AVE</td>\n",
       "      <td>T002</td>\n",
       "      <td>4100  N OAK PARK AVE, Chicago, IL</td>\n",
       "      <td>41.95469</td>\n",
       "      <td>-87.800991</td>\n",
       "      <td>9</td>\n",
       "    </tr>\n",
       "  </tbody>\n",
       "</table>\n",
       "</div>"
      ],
      "text/plain": [
       "   Id        Date                                            Address  \\\n",
       "0   1  2008-06-11  4100 North Oak Park Avenue, Chicago, IL 60634,...   \n",
       "1   2  2008-06-11  4100 North Oak Park Avenue, Chicago, IL 60634,...   \n",
       "2   3  2008-06-11  4100 North Oak Park Avenue, Chicago, IL 60634,...   \n",
       "3   4  2008-06-11  4100 North Oak Park Avenue, Chicago, IL 60634,...   \n",
       "4   5  2008-06-11  4100 North Oak Park Avenue, Chicago, IL 60634,...   \n",
       "\n",
       "                  Species  Block           Street  Trap  \\\n",
       "0  CULEX PIPIENS/RESTUANS     41   N OAK PARK AVE  T002   \n",
       "1          CULEX RESTUANS     41   N OAK PARK AVE  T002   \n",
       "2           CULEX PIPIENS     41   N OAK PARK AVE  T002   \n",
       "3        CULEX SALINARIUS     41   N OAK PARK AVE  T002   \n",
       "4         CULEX TERRITANS     41   N OAK PARK AVE  T002   \n",
       "\n",
       "              AddressNumberAndStreet  Latitude  Longitude  AddressAccuracy  \n",
       "0  4100  N OAK PARK AVE, Chicago, IL  41.95469 -87.800991                9  \n",
       "1  4100  N OAK PARK AVE, Chicago, IL  41.95469 -87.800991                9  \n",
       "2  4100  N OAK PARK AVE, Chicago, IL  41.95469 -87.800991                9  \n",
       "3  4100  N OAK PARK AVE, Chicago, IL  41.95469 -87.800991                9  \n",
       "4  4100  N OAK PARK AVE, Chicago, IL  41.95469 -87.800991                9  "
      ]
     },
     "execution_count": 56,
     "metadata": {},
     "output_type": "execute_result"
    }
   ],
   "source": [
    "test.head()"
   ]
  },
  {
   "cell_type": "code",
   "execution_count": 57,
   "id": "26e2d8da",
   "metadata": {},
   "outputs": [
    {
     "data": {
      "text/plain": [
       "Id                        0\n",
       "Date                      0\n",
       "Address                   0\n",
       "Species                   0\n",
       "Block                     0\n",
       "Street                    0\n",
       "Trap                      0\n",
       "AddressNumberAndStreet    0\n",
       "Latitude                  0\n",
       "Longitude                 0\n",
       "AddressAccuracy           0\n",
       "dtype: int64"
      ]
     },
     "execution_count": 57,
     "metadata": {},
     "output_type": "execute_result"
    }
   ],
   "source": [
    "test.isnull().sum()"
   ]
  },
  {
   "cell_type": "code",
   "execution_count": 58,
   "id": "28ee8acc",
   "metadata": {},
   "outputs": [
    {
     "data": {
      "text/plain": [
       "(116293, 11)"
      ]
     },
     "execution_count": 58,
     "metadata": {},
     "output_type": "execute_result"
    }
   ],
   "source": [
    "test.shape"
   ]
  },
  {
   "cell_type": "code",
   "execution_count": 59,
   "id": "88848a38",
   "metadata": {},
   "outputs": [
    {
     "data": {
      "text/plain": [
       "Index(['Id', 'Date', 'Address', 'Species', 'Block', 'Street', 'Trap',\n",
       "       'AddressNumberAndStreet', 'Latitude', 'Longitude', 'AddressAccuracy'],\n",
       "      dtype='object')"
      ]
     },
     "execution_count": 59,
     "metadata": {},
     "output_type": "execute_result"
    }
   ],
   "source": [
    "test.columns"
   ]
  },
  {
   "cell_type": "code",
   "execution_count": 60,
   "id": "82e52ad2",
   "metadata": {},
   "outputs": [
    {
     "data": {
      "text/plain": [
       "Id                          int64\n",
       "Date                       object\n",
       "Address                    object\n",
       "Species                    object\n",
       "Block                       int64\n",
       "Street                     object\n",
       "Trap                       object\n",
       "AddressNumberAndStreet     object\n",
       "Latitude                  float64\n",
       "Longitude                 float64\n",
       "AddressAccuracy             int64\n",
       "dtype: object"
      ]
     },
     "execution_count": 60,
     "metadata": {},
     "output_type": "execute_result"
    }
   ],
   "source": [
    "test.dtypes"
   ]
  },
  {
   "cell_type": "code",
   "execution_count": 61,
   "id": "4e4b5e65",
   "metadata": {},
   "outputs": [
    {
     "data": {
      "text/plain": [
       "0"
      ]
     },
     "execution_count": 61,
     "metadata": {},
     "output_type": "execute_result"
    }
   ],
   "source": [
    "test.duplicated().sum()"
   ]
  },
  {
   "cell_type": "code",
   "execution_count": 62,
   "id": "d4cc3160",
   "metadata": {},
   "outputs": [],
   "source": [
    "test['Date'] = pd.to_datetime(test['Date'])"
   ]
  },
  {
   "cell_type": "code",
   "execution_count": 63,
   "id": "c61baa5c",
   "metadata": {},
   "outputs": [
    {
     "data": {
      "text/html": [
       "<div>\n",
       "<style scoped>\n",
       "    .dataframe tbody tr th:only-of-type {\n",
       "        vertical-align: middle;\n",
       "    }\n",
       "\n",
       "    .dataframe tbody tr th {\n",
       "        vertical-align: top;\n",
       "    }\n",
       "\n",
       "    .dataframe thead th {\n",
       "        text-align: right;\n",
       "    }\n",
       "</style>\n",
       "<table border=\"1\" class=\"dataframe\">\n",
       "  <thead>\n",
       "    <tr style=\"text-align: right;\">\n",
       "      <th></th>\n",
       "      <th>Id</th>\n",
       "      <th>Date</th>\n",
       "      <th>Address</th>\n",
       "      <th>Species</th>\n",
       "      <th>Block</th>\n",
       "      <th>Street</th>\n",
       "      <th>Trap</th>\n",
       "      <th>AddressNumberAndStreet</th>\n",
       "      <th>Latitude</th>\n",
       "      <th>Longitude</th>\n",
       "      <th>AddressAccuracy</th>\n",
       "    </tr>\n",
       "  </thead>\n",
       "  <tbody>\n",
       "    <tr>\n",
       "      <th>0</th>\n",
       "      <td>1</td>\n",
       "      <td>2008-06-11</td>\n",
       "      <td>4100 North Oak Park Avenue, Chicago, IL 60634,...</td>\n",
       "      <td>CULEX PIPIENS/RESTUANS</td>\n",
       "      <td>41</td>\n",
       "      <td>N OAK PARK AVE</td>\n",
       "      <td>T002</td>\n",
       "      <td>4100  N OAK PARK AVE, Chicago, IL</td>\n",
       "      <td>41.95469</td>\n",
       "      <td>-87.800991</td>\n",
       "      <td>9</td>\n",
       "    </tr>\n",
       "    <tr>\n",
       "      <th>1</th>\n",
       "      <td>2</td>\n",
       "      <td>2008-06-11</td>\n",
       "      <td>4100 North Oak Park Avenue, Chicago, IL 60634,...</td>\n",
       "      <td>CULEX RESTUANS</td>\n",
       "      <td>41</td>\n",
       "      <td>N OAK PARK AVE</td>\n",
       "      <td>T002</td>\n",
       "      <td>4100  N OAK PARK AVE, Chicago, IL</td>\n",
       "      <td>41.95469</td>\n",
       "      <td>-87.800991</td>\n",
       "      <td>9</td>\n",
       "    </tr>\n",
       "    <tr>\n",
       "      <th>2</th>\n",
       "      <td>3</td>\n",
       "      <td>2008-06-11</td>\n",
       "      <td>4100 North Oak Park Avenue, Chicago, IL 60634,...</td>\n",
       "      <td>CULEX PIPIENS</td>\n",
       "      <td>41</td>\n",
       "      <td>N OAK PARK AVE</td>\n",
       "      <td>T002</td>\n",
       "      <td>4100  N OAK PARK AVE, Chicago, IL</td>\n",
       "      <td>41.95469</td>\n",
       "      <td>-87.800991</td>\n",
       "      <td>9</td>\n",
       "    </tr>\n",
       "    <tr>\n",
       "      <th>3</th>\n",
       "      <td>4</td>\n",
       "      <td>2008-06-11</td>\n",
       "      <td>4100 North Oak Park Avenue, Chicago, IL 60634,...</td>\n",
       "      <td>CULEX SALINARIUS</td>\n",
       "      <td>41</td>\n",
       "      <td>N OAK PARK AVE</td>\n",
       "      <td>T002</td>\n",
       "      <td>4100  N OAK PARK AVE, Chicago, IL</td>\n",
       "      <td>41.95469</td>\n",
       "      <td>-87.800991</td>\n",
       "      <td>9</td>\n",
       "    </tr>\n",
       "    <tr>\n",
       "      <th>4</th>\n",
       "      <td>5</td>\n",
       "      <td>2008-06-11</td>\n",
       "      <td>4100 North Oak Park Avenue, Chicago, IL 60634,...</td>\n",
       "      <td>CULEX TERRITANS</td>\n",
       "      <td>41</td>\n",
       "      <td>N OAK PARK AVE</td>\n",
       "      <td>T002</td>\n",
       "      <td>4100  N OAK PARK AVE, Chicago, IL</td>\n",
       "      <td>41.95469</td>\n",
       "      <td>-87.800991</td>\n",
       "      <td>9</td>\n",
       "    </tr>\n",
       "  </tbody>\n",
       "</table>\n",
       "</div>"
      ],
      "text/plain": [
       "   Id       Date                                            Address  \\\n",
       "0   1 2008-06-11  4100 North Oak Park Avenue, Chicago, IL 60634,...   \n",
       "1   2 2008-06-11  4100 North Oak Park Avenue, Chicago, IL 60634,...   \n",
       "2   3 2008-06-11  4100 North Oak Park Avenue, Chicago, IL 60634,...   \n",
       "3   4 2008-06-11  4100 North Oak Park Avenue, Chicago, IL 60634,...   \n",
       "4   5 2008-06-11  4100 North Oak Park Avenue, Chicago, IL 60634,...   \n",
       "\n",
       "                  Species  Block           Street  Trap  \\\n",
       "0  CULEX PIPIENS/RESTUANS     41   N OAK PARK AVE  T002   \n",
       "1          CULEX RESTUANS     41   N OAK PARK AVE  T002   \n",
       "2           CULEX PIPIENS     41   N OAK PARK AVE  T002   \n",
       "3        CULEX SALINARIUS     41   N OAK PARK AVE  T002   \n",
       "4         CULEX TERRITANS     41   N OAK PARK AVE  T002   \n",
       "\n",
       "              AddressNumberAndStreet  Latitude  Longitude  AddressAccuracy  \n",
       "0  4100  N OAK PARK AVE, Chicago, IL  41.95469 -87.800991                9  \n",
       "1  4100  N OAK PARK AVE, Chicago, IL  41.95469 -87.800991                9  \n",
       "2  4100  N OAK PARK AVE, Chicago, IL  41.95469 -87.800991                9  \n",
       "3  4100  N OAK PARK AVE, Chicago, IL  41.95469 -87.800991                9  \n",
       "4  4100  N OAK PARK AVE, Chicago, IL  41.95469 -87.800991                9  "
      ]
     },
     "execution_count": 63,
     "metadata": {},
     "output_type": "execute_result"
    }
   ],
   "source": [
    "test.head()"
   ]
  },
  {
   "cell_type": "code",
   "execution_count": 64,
   "id": "e4a65701",
   "metadata": {},
   "outputs": [],
   "source": [
    "test.to_csv('./datasets/test.csv', index=False)"
   ]
  },
  {
   "cell_type": "markdown",
   "id": "0ad550c3",
   "metadata": {},
   "source": [
    "# 7. Spray - Data Cleaning"
   ]
  },
  {
   "cell_type": "markdown",
   "id": "cd6ceb6e",
   "metadata": {},
   "source": [
    "## 7.1. Spray - Initial Analysis"
   ]
  },
  {
   "cell_type": "code",
   "execution_count": 65,
   "id": "98bcbedb",
   "metadata": {},
   "outputs": [
    {
     "data": {
      "text/html": [
       "<div>\n",
       "<style scoped>\n",
       "    .dataframe tbody tr th:only-of-type {\n",
       "        vertical-align: middle;\n",
       "    }\n",
       "\n",
       "    .dataframe tbody tr th {\n",
       "        vertical-align: top;\n",
       "    }\n",
       "\n",
       "    .dataframe thead th {\n",
       "        text-align: right;\n",
       "    }\n",
       "</style>\n",
       "<table border=\"1\" class=\"dataframe\">\n",
       "  <thead>\n",
       "    <tr style=\"text-align: right;\">\n",
       "      <th></th>\n",
       "      <th>Date</th>\n",
       "      <th>Time</th>\n",
       "      <th>Latitude</th>\n",
       "      <th>Longitude</th>\n",
       "    </tr>\n",
       "  </thead>\n",
       "  <tbody>\n",
       "    <tr>\n",
       "      <th>0</th>\n",
       "      <td>2011-08-29</td>\n",
       "      <td>6:56:58 PM</td>\n",
       "      <td>42.391623</td>\n",
       "      <td>-88.089163</td>\n",
       "    </tr>\n",
       "    <tr>\n",
       "      <th>1</th>\n",
       "      <td>2011-08-29</td>\n",
       "      <td>6:57:08 PM</td>\n",
       "      <td>42.391348</td>\n",
       "      <td>-88.089163</td>\n",
       "    </tr>\n",
       "    <tr>\n",
       "      <th>2</th>\n",
       "      <td>2011-08-29</td>\n",
       "      <td>6:57:18 PM</td>\n",
       "      <td>42.391022</td>\n",
       "      <td>-88.089157</td>\n",
       "    </tr>\n",
       "    <tr>\n",
       "      <th>3</th>\n",
       "      <td>2011-08-29</td>\n",
       "      <td>6:57:28 PM</td>\n",
       "      <td>42.390637</td>\n",
       "      <td>-88.089158</td>\n",
       "    </tr>\n",
       "    <tr>\n",
       "      <th>4</th>\n",
       "      <td>2011-08-29</td>\n",
       "      <td>6:57:38 PM</td>\n",
       "      <td>42.390410</td>\n",
       "      <td>-88.088858</td>\n",
       "    </tr>\n",
       "  </tbody>\n",
       "</table>\n",
       "</div>"
      ],
      "text/plain": [
       "         Date        Time   Latitude  Longitude\n",
       "0  2011-08-29  6:56:58 PM  42.391623 -88.089163\n",
       "1  2011-08-29  6:57:08 PM  42.391348 -88.089163\n",
       "2  2011-08-29  6:57:18 PM  42.391022 -88.089157\n",
       "3  2011-08-29  6:57:28 PM  42.390637 -88.089158\n",
       "4  2011-08-29  6:57:38 PM  42.390410 -88.088858"
      ]
     },
     "execution_count": 65,
     "metadata": {},
     "output_type": "execute_result"
    }
   ],
   "source": [
    "spray.head()"
   ]
  },
  {
   "cell_type": "code",
   "execution_count": 66,
   "id": "4d5dde73",
   "metadata": {},
   "outputs": [
    {
     "data": {
      "text/plain": [
       "Date           0\n",
       "Time         584\n",
       "Latitude       0\n",
       "Longitude      0\n",
       "dtype: int64"
      ]
     },
     "execution_count": 66,
     "metadata": {},
     "output_type": "execute_result"
    }
   ],
   "source": [
    "spray.isnull().sum()"
   ]
  },
  {
   "cell_type": "code",
   "execution_count": 67,
   "id": "661c6c4f",
   "metadata": {},
   "outputs": [
    {
     "data": {
      "text/plain": [
       "(14835, 4)"
      ]
     },
     "execution_count": 67,
     "metadata": {},
     "output_type": "execute_result"
    }
   ],
   "source": [
    "spray.shape"
   ]
  },
  {
   "cell_type": "code",
   "execution_count": 68,
   "id": "ca72cb81",
   "metadata": {},
   "outputs": [
    {
     "data": {
      "text/plain": [
       "Index(['Date', 'Time', 'Latitude', 'Longitude'], dtype='object')"
      ]
     },
     "execution_count": 68,
     "metadata": {},
     "output_type": "execute_result"
    }
   ],
   "source": [
    "spray.columns"
   ]
  },
  {
   "cell_type": "code",
   "execution_count": 69,
   "id": "ba9afb1a",
   "metadata": {},
   "outputs": [
    {
     "data": {
      "text/plain": [
       "Date          object\n",
       "Time          object\n",
       "Latitude     float64\n",
       "Longitude    float64\n",
       "dtype: object"
      ]
     },
     "execution_count": 69,
     "metadata": {},
     "output_type": "execute_result"
    }
   ],
   "source": [
    "spray.dtypes"
   ]
  },
  {
   "cell_type": "code",
   "execution_count": 70,
   "id": "7c903f17",
   "metadata": {},
   "outputs": [
    {
     "data": {
      "text/plain": [
       "541"
      ]
     },
     "execution_count": 70,
     "metadata": {},
     "output_type": "execute_result"
    }
   ],
   "source": [
    "spray.duplicated().sum()"
   ]
  },
  {
   "cell_type": "code",
   "execution_count": 71,
   "id": "fcb00a68",
   "metadata": {},
   "outputs": [],
   "source": [
    "# Not able to impute time values\n",
    "spray.drop_duplicates(inplace=True)"
   ]
  },
  {
   "cell_type": "code",
   "execution_count": 72,
   "id": "03373620",
   "metadata": {},
   "outputs": [],
   "source": [
    "spray.drop(columns='Time',inplace=True)"
   ]
  },
  {
   "cell_type": "code",
   "execution_count": 73,
   "id": "74420b80",
   "metadata": {},
   "outputs": [],
   "source": [
    "spray['Date'] = pd.to_datetime(spray['Date'])"
   ]
  },
  {
   "cell_type": "code",
   "execution_count": 74,
   "id": "1e86fda6",
   "metadata": {},
   "outputs": [],
   "source": [
    "spray.to_csv('./datasets/cleaned_spray.csv', index=False)"
   ]
  }
 ],
 "metadata": {
  "kernelspec": {
   "display_name": "Python 3",
   "language": "python",
   "name": "python3"
  },
  "language_info": {
   "codemirror_mode": {
    "name": "ipython",
    "version": 3
   },
   "file_extension": ".py",
   "mimetype": "text/x-python",
   "name": "python",
   "nbconvert_exporter": "python",
   "pygments_lexer": "ipython3",
   "version": "3.8.8"
  }
 },
 "nbformat": 4,
 "nbformat_minor": 5
}
